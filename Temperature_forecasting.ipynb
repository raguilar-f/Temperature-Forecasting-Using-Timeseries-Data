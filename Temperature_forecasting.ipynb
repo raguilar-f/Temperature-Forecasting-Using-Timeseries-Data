{
  "nbformat": 4,
  "nbformat_minor": 0,
  "metadata": {
    "colab": {
      "name": "Temperature_forecasting.ipynb",
      "provenance": [],
      "collapsed_sections": []
    },
    "kernelspec": {
      "name": "python3",
      "display_name": "Python 3"
    },
    "accelerator": "GPU"
  },
  "cells": [
    {
      "cell_type": "code",
      "metadata": {
        "colab": {
          "base_uri": "https://localhost:8080/"
        },
        "id": "TUgQI1KRHpFF",
        "outputId": "e61846b0-5cf6-4106-8c4f-f478893dafdc"
      },
      "source": [
        "from google.colab import drive\n",
        "drive.mount('/content/drive')"
      ],
      "execution_count": 1,
      "outputs": [
        {
          "output_type": "stream",
          "name": "stdout",
          "text": [
            "Mounted at /content/drive\n"
          ]
        }
      ]
    },
    {
      "cell_type": "markdown",
      "source": [
        "In this implementstion, we'll work using a timeseries dataset  recorded at the Weather Station at the Max Planck Institute for Biogeochemistry in Jena, Germany (http://www.bgc-jena.mpg.de/wetter/). <br>\n",
        "In this dataset,  14 different quantities (such air temperature, atmospheric pressure, humidity, wind direction, and so on) were recorded every 10 minutes, over several years. The original data goes back to 2003, but this example is limited to data from 2009–2016. <br>\n",
        "Our goal by using this dataset is to feed a machine learning algorithm with air temperature data from the recent past in order to predict the air temperature 24 hours after."
      ],
      "metadata": {
        "id": "t6EppsAl4EZL"
      }
    },
    {
      "cell_type": "markdown",
      "metadata": {
        "id": "k4gRLDEEJO0z"
      },
      "source": [
        "# **Unzip the dataset**"
      ]
    },
    {
      "cell_type": "code",
      "metadata": {
        "colab": {
          "base_uri": "https://localhost:8080/"
        },
        "id": "6eQqpxPsJQxB",
        "outputId": "e79e82be-56e6-4c41-a010-be1398b134b7"
      },
      "source": [
        "!mkdir jena_climate\n",
        "!cd jena_climate\n",
        "!wget https://s3.amazonaws.com/keras-datasets/jena_climate_2009_2016.csv.zip\n",
        "!unzip jena_climate_2009_2016.csv.zip"
      ],
      "execution_count": 2,
      "outputs": [
        {
          "output_type": "stream",
          "name": "stdout",
          "text": [
            "--2022-05-15 18:37:55--  https://s3.amazonaws.com/keras-datasets/jena_climate_2009_2016.csv.zip\n",
            "Resolving s3.amazonaws.com (s3.amazonaws.com)... 52.216.177.109\n",
            "Connecting to s3.amazonaws.com (s3.amazonaws.com)|52.216.177.109|:443... connected.\n",
            "HTTP request sent, awaiting response... 200 OK\n",
            "Length: 13565642 (13M) [application/zip]\n",
            "Saving to: ‘jena_climate_2009_2016.csv.zip’\n",
            "\n",
            "jena_climate_2009_2 100%[===================>]  12.94M  5.98MB/s    in 2.2s    \n",
            "\n",
            "2022-05-15 18:37:58 (5.98 MB/s) - ‘jena_climate_2009_2016.csv.zip’ saved [13565642/13565642]\n",
            "\n",
            "Archive:  jena_climate_2009_2016.csv.zip\n",
            "  inflating: jena_climate_2009_2016.csv  \n",
            "  inflating: __MACOSX/._jena_climate_2009_2016.csv  \n"
          ]
        }
      ]
    },
    {
      "cell_type": "code",
      "metadata": {
        "colab": {
          "base_uri": "https://localhost:8080/"
        },
        "id": "xe9smbN1Lntb",
        "outputId": "31bb2cbc-4d9f-4950-aa36-939bfe81c942"
      },
      "source": [
        "import os\n",
        "\n",
        "fname = 'jena_climate_2009_2016.csv'\n",
        "\n",
        "f = open(fname)\n",
        "data = f.read()\n",
        "f.close()\n",
        "\n",
        "lines = data.split('\\n')\n",
        "header = lines[0].split(',')\n",
        "lines = lines[1:]\n",
        "\n",
        "print(header)\n",
        "print(len(lines))"
      ],
      "execution_count": 3,
      "outputs": [
        {
          "output_type": "stream",
          "name": "stdout",
          "text": [
            "['\"Date Time\"', '\"p (mbar)\"', '\"T (degC)\"', '\"Tpot (K)\"', '\"Tdew (degC)\"', '\"rh (%)\"', '\"VPmax (mbar)\"', '\"VPact (mbar)\"', '\"VPdef (mbar)\"', '\"sh (g/kg)\"', '\"H2OC (mmol/mol)\"', '\"rho (g/m**3)\"', '\"wv (m/s)\"', '\"max. wv (m/s)\"', '\"wd (deg)\"']\n",
            "420451\n"
          ]
        }
      ]
    },
    {
      "cell_type": "code",
      "metadata": {
        "colab": {
          "base_uri": "https://localhost:8080/",
          "height": 36
        },
        "id": "1XAZEda3L2DD",
        "outputId": "ff500eb3-a2e2-4b35-ff35-9361117e16b9"
      },
      "source": [
        "lines[2]"
      ],
      "execution_count": 4,
      "outputs": [
        {
          "output_type": "execute_result",
          "data": {
            "text/plain": [
              "'01.01.2009 00:30:00,996.53,-8.51,264.91,-9.31,93.90,3.21,3.01,0.20,1.88,3.02,1310.24,0.19,0.63,171.60'"
            ],
            "application/vnd.google.colaboratory.intrinsic+json": {
              "type": "string"
            }
          },
          "metadata": {},
          "execution_count": 4
        }
      ]
    },
    {
      "cell_type": "code",
      "metadata": {
        "id": "QK2tOPckMqQx"
      },
      "source": [
        "#Transform timesteps into numpy array\n",
        "import numpy as np\n",
        "\n",
        "float_data = np.zeros((len(lines), len(header) - 1))\n",
        "for i, line in enumerate(lines):\n",
        "    values = [float(x) for x in line.split(',')[1:]]\n",
        "    float_data[i, :] = values"
      ],
      "execution_count": 5,
      "outputs": []
    },
    {
      "cell_type": "code",
      "metadata": {
        "colab": {
          "base_uri": "https://localhost:8080/"
        },
        "id": "qKbFpLfOD-Od",
        "outputId": "757765a1-4165-43b3-d75a-67262cc807ed"
      },
      "source": [
        "float_data[2]"
      ],
      "execution_count": 6,
      "outputs": [
        {
          "output_type": "execute_result",
          "data": {
            "text/plain": [
              "array([ 9.96530e+02, -8.51000e+00,  2.64910e+02, -9.31000e+00,\n",
              "        9.39000e+01,  3.21000e+00,  3.01000e+00,  2.00000e-01,\n",
              "        1.88000e+00,  3.02000e+00,  1.31024e+03,  1.90000e-01,\n",
              "        6.30000e-01,  1.71600e+02])"
            ]
          },
          "metadata": {},
          "execution_count": 6
        }
      ]
    },
    {
      "cell_type": "code",
      "metadata": {
        "colab": {
          "base_uri": "https://localhost:8080/",
          "height": 268
        },
        "id": "hCkW-yeMNVLS",
        "outputId": "f7cfc68c-6d5e-4dfc-f99b-7def00e94351"
      },
      "source": [
        "#Temperature recorded over the full temporal range of the dataset\n",
        "from matplotlib import pyplot as plt\n",
        "\n",
        "temp = float_data[:, 1]  # temperatura (en grados Celsius)\n",
        "plt.plot(range(len(temp)), temp)\n",
        "plt.show()"
      ],
      "execution_count": 7,
      "outputs": [
        {
          "output_type": "display_data",
          "data": {
            "text/plain": [
              "<Figure size 432x288 with 1 Axes>"
            ],
            "image/png": "[encoded data removed]"
          },
          "metadata": {
            "needs_background": "light"
          }
        }
      ]
    },
    {
      "cell_type": "code",
      "metadata": {
        "colab": {
          "base_uri": "https://localhost:8080/",
          "height": 265
        },
        "id": "dZgRwT1dNrlq",
        "outputId": "684b6814-d8a4-4e10-a2d2-455e384bdf91"
      },
      "source": [
        "#Temperature over the first 10 days of the dataset\n",
        "plt.plot(range(1440), temp[:1440])\n",
        "plt.show()"
      ],
      "execution_count": 8,
      "outputs": [
        {
          "output_type": "display_data",
          "data": {
            "text/plain": [
              "<Figure size 432x288 with 1 Axes>"
            ],
            "image/png": "[encoded data removed]"
          },
          "metadata": {
            "needs_background": "light"
          }
        }
      ]
    },
    {
      "cell_type": "markdown",
      "metadata": {
        "id": "vHtSU1zNx0Uw"
      },
      "source": [
        "# **Data preparation**"
      ]
    },
    {
      "cell_type": "markdown",
      "source": [
        "The exact formulation of the problem will be as follows: given data going as far back as *lookback* timesteps (a timestep is 10 minutes) and sampled every steps timesteps, can you predict the temperature in delay timesteps? In order to address this problem, we’ll use the following parameter values:\n",
        "\n",
        "lookback = 1440, observation will go back 5 days. <br>\n",
        "steps = 6, observations will be sampled at one data point per hour. <br>\n",
        "delay = 144, targets will be 24 hours in the future. <br>"
      ],
      "metadata": {
        "id": "iCxqjdXK6fnj"
      }
    },
    {
      "cell_type": "markdown",
      "metadata": {
        "id": "E7Cr4OU1zjdP"
      },
      "source": [
        "**Dataset normalization**"
      ]
    },
    {
      "cell_type": "code",
      "metadata": {
        "id": "-iJWmgKBzlQV"
      },
      "source": [
        "mean = float_data[:200000].mean(axis=0)\n",
        "float_data -= mean\n",
        "std = float_data[:200000].std(axis=0)\n",
        "float_data /= std"
      ],
      "execution_count": 9,
      "outputs": []
    },
    {
      "cell_type": "markdown",
      "metadata": {
        "id": "17nXmNP6zwD9"
      },
      "source": [
        "**Build a data generator**"
      ]
    },
    {
      "cell_type": "markdown",
      "source": [
        "With the aim of extract the temporal data from the dataset and apply such data to train our model, it is recommended to desing a data generator. This generator will produce a tuple (*samples, targets*), where *samples* is an input batch of data and *targets* is an array that holds air temperature 24 hours after. T"
      ],
      "metadata": {
        "id": "4H4iizib8KqE"
      }
    },
    {
      "cell_type": "code",
      "metadata": {
        "id": "JfJUeY7N1tdY"
      },
      "source": [
        "def generator(data, lookback, delay, min_index, max_index,\n",
        "              shuffle=False, batch_size=128, step=6):\n",
        "    if max_index is None:\n",
        "        max_index = len(data) - delay - 1\n",
        "    i = min_index + lookback\n",
        "    while 1:\n",
        "        if shuffle:\n",
        "            rows = np.random.randint(\n",
        "                min_index + lookback, max_index, size=batch_size)\n",
        "        else:\n",
        "            if i + batch_size >= max_index:\n",
        "                i = min_index + lookback\n",
        "            rows = np.arange(i, min(i + batch_size, max_index))\n",
        "            i += len(rows)\n",
        "\n",
        "        samples = np.zeros((len(rows),\n",
        "                           lookback // step,\n",
        "                           data.shape[-1]))\n",
        "        targets = np.zeros((len(rows),))\n",
        "        for j, row in enumerate(rows):\n",
        "            indices = range(rows[j] - lookback, rows[j], step)\n",
        "            samples[j] = data[indices]\n",
        "            targets[j] = data[rows[j] + delay][1]\n",
        "        yield samples, targets"
      ],
      "execution_count": 10,
      "outputs": []
    },
    {
      "cell_type": "markdown",
      "source": [
        "Now, we are going to use our generator to create three generators: one for the train set, another one for the validation set, and the last one for the test set. Each generator will take information from different time segments from the dataset: the train generator will use the first 200,000 timesteps, the validation generator will use the next 1000,000 timesteps, and finally, the test generator will extract the remaining timesteps."
      ],
      "metadata": {
        "id": "lwV-Oljj9tVJ"
      }
    },
    {
      "cell_type": "code",
      "metadata": {
        "id": "HSNHa9dH15jM"
      },
      "source": [
        "lookback = 1440\n",
        "step = 6\n",
        "delay = 144\n",
        "batch_size = 128\n",
        "\n",
        "train_gen = generator(float_data,\n",
        "                      lookback=lookback,\n",
        "                      delay=delay,\n",
        "                      min_index=0,\n",
        "                      max_index=200000,\n",
        "                      shuffle=True,\n",
        "                      step=step, \n",
        "                      batch_size=batch_size)\n",
        "val_gen = generator(float_data,\n",
        "                    lookback=lookback,\n",
        "                    delay=delay,\n",
        "                    min_index=200001,\n",
        "                    max_index=300000,\n",
        "                    step=step,\n",
        "                    batch_size=batch_size)\n",
        "test_gen = generator(float_data,\n",
        "                     lookback=lookback,\n",
        "                     delay=delay,\n",
        "                     min_index=300001,\n",
        "                     max_index=None,\n",
        "                     step=step,\n",
        "                     batch_size=batch_size)\n",
        "\n",
        "# This variable will allow us to define how many times \"validation_gen\"  \n",
        "# will be iterated to process the entire validation set.\n",
        "val_steps = (300000 - 200001 - lookback) // batch_size\n",
        "\n",
        "# This variable will allow us to define how many times \"test_gen\"  \n",
        "# will be iterated to process the entire validation set.\n",
        "test_steps = (len(float_data) - 300001 - lookback) // batch_size"
      ],
      "execution_count": 11,
      "outputs": []
    },
    {
      "cell_type": "markdown",
      "metadata": {
        "id": "8SPBibOG3mMv"
      },
      "source": [
        "# **Recurrent neural network (GRU) architecture definition, compilation and training**"
      ]
    },
    {
      "cell_type": "code",
      "metadata": {
        "colab": {
          "base_uri": "https://localhost:8080/"
        },
        "id": "spD879T73pF8",
        "outputId": "42714371-0092-4b9e-b650-7a8af1c44473"
      },
      "source": [
        "from tensorflow.keras.models import Sequential\n",
        "from tensorflow.keras import layers\n",
        "from tensorflow.keras.optimizers import RMSprop\n",
        "from tensorflow.keras.callbacks import EarlyStopping\n",
        "from tensorflow.keras.callbacks import ModelCheckpoint\n",
        "\n",
        "model = Sequential()\n",
        "model.add(layers.GRU(32, input_shape=(None, float_data.shape[-1])))\n",
        "model.add(layers.Dense(1))\n",
        "\n",
        "model.compile(optimizer=RMSprop(), loss='mae')\n",
        "\n",
        "es = EarlyStopping(monitor= 'val_loss', mode='min', patience = 10, verbose=1)\n",
        "mc = ModelCheckpoint('/content/model_gru.h5', monitor='val_loss', mode='min', verbose=1, save_best_only=True)\n",
        "\n",
        "history = model.fit(train_gen,\n",
        "                              steps_per_epoch=500,\n",
        "                              epochs=20,\n",
        "                              validation_data=val_gen,\n",
        "                              validation_steps=val_steps,\n",
        "                              callbacks = [es, mc])"
      ],
      "execution_count": 12,
      "outputs": [
        {
          "output_type": "stream",
          "name": "stdout",
          "text": [
            "Epoch 1/20\n",
            "500/500 [==============================] - ETA: 0s - loss: 0.3070\n",
            "Epoch 1: val_loss improved from inf to 0.27208, saving model to /content/model_gru.h5\n",
            "500/500 [==============================] - 39s 65ms/step - loss: 0.3070 - val_loss: 0.2721\n",
            "Epoch 2/20\n",
            "499/500 [============================>.] - ETA: 0s - loss: 0.2835\n",
            "Epoch 2: val_loss improved from 0.27208 to 0.27053, saving model to /content/model_gru.h5\n",
            "500/500 [==============================] - 32s 65ms/step - loss: 0.2835 - val_loss: 0.2705\n",
            "Epoch 3/20\n",
            "499/500 [============================>.] - ETA: 0s - loss: 0.2742\n",
            "Epoch 3: val_loss improved from 0.27053 to 0.26461, saving model to /content/model_gru.h5\n",
            "500/500 [==============================] - 32s 64ms/step - loss: 0.2742 - val_loss: 0.2646\n",
            "Epoch 4/20\n",
            "500/500 [==============================] - ETA: 0s - loss: 0.2682\n",
            "Epoch 4: val_loss did not improve from 0.26461\n",
            "500/500 [==============================] - 32s 64ms/step - loss: 0.2682 - val_loss: 0.2688\n",
            "Epoch 5/20\n",
            "500/500 [==============================] - ETA: 0s - loss: 0.2629\n",
            "Epoch 5: val_loss did not improve from 0.26461\n",
            "500/500 [==============================] - 32s 64ms/step - loss: 0.2629 - val_loss: 0.2656\n",
            "Epoch 6/20\n",
            "499/500 [============================>.] - ETA: 0s - loss: 0.2576\n",
            "Epoch 6: val_loss did not improve from 0.26461\n",
            "500/500 [==============================] - 32s 64ms/step - loss: 0.2575 - val_loss: 0.2756\n",
            "Epoch 7/20\n",
            "499/500 [============================>.] - ETA: 0s - loss: 0.2536\n",
            "Epoch 7: val_loss did not improve from 0.26461\n",
            "500/500 [==============================] - 32s 64ms/step - loss: 0.2536 - val_loss: 0.2696\n",
            "Epoch 8/20\n",
            "499/500 [============================>.] - ETA: 0s - loss: 0.2502\n",
            "Epoch 8: val_loss did not improve from 0.26461\n",
            "500/500 [==============================] - 32s 65ms/step - loss: 0.2502 - val_loss: 0.2709\n",
            "Epoch 9/20\n",
            "499/500 [============================>.] - ETA: 0s - loss: 0.2460\n",
            "Epoch 9: val_loss did not improve from 0.26461\n",
            "500/500 [==============================] - 32s 64ms/step - loss: 0.2460 - val_loss: 0.2761\n",
            "Epoch 10/20\n",
            "500/500 [==============================] - ETA: 0s - loss: 0.2422\n",
            "Epoch 10: val_loss did not improve from 0.26461\n",
            "500/500 [==============================] - 32s 64ms/step - loss: 0.2422 - val_loss: 0.2807\n",
            "Epoch 11/20\n",
            "499/500 [============================>.] - ETA: 0s - loss: 0.2374\n",
            "Epoch 11: val_loss did not improve from 0.26461\n",
            "500/500 [==============================] - 32s 64ms/step - loss: 0.2374 - val_loss: 0.2792\n",
            "Epoch 12/20\n",
            "500/500 [==============================] - ETA: 0s - loss: 0.2321\n",
            "Epoch 12: val_loss did not improve from 0.26461\n",
            "500/500 [==============================] - 32s 64ms/step - loss: 0.2321 - val_loss: 0.2906\n",
            "Epoch 13/20\n",
            "499/500 [============================>.] - ETA: 0s - loss: 0.2306\n",
            "Epoch 13: val_loss did not improve from 0.26461\n",
            "500/500 [==============================] - 32s 64ms/step - loss: 0.2306 - val_loss: 0.2926\n",
            "Epoch 13: early stopping\n"
          ]
        }
      ]
    },
    {
      "cell_type": "code",
      "metadata": {
        "colab": {
          "base_uri": "https://localhost:8080/"
        },
        "id": "dIF4zSNWKxLv",
        "outputId": "ae0aa1dd-c32f-4c9e-cc14-34ef7c12e932"
      },
      "source": [
        ".2595 * std[1]"
      ],
      "execution_count": 13,
      "outputs": [
        {
          "output_type": "execute_result",
          "data": {
            "text/plain": [
              "2.2972235118320987"
            ]
          },
          "metadata": {},
          "execution_count": 13
        }
      ]
    },
    {
      "cell_type": "markdown",
      "metadata": {
        "id": "f4AIfeaS8xcN"
      },
      "source": [
        "# **Loss curves**"
      ]
    },
    {
      "cell_type": "code",
      "metadata": {
        "colab": {
          "base_uri": "https://localhost:8080/",
          "height": 298
        },
        "id": "wESm2N-fRfaw",
        "outputId": "e2bfc539-f015-4d97-9378-981a37550987"
      },
      "source": [
        "import matplotlib.pyplot as plt\n",
        "\n",
        "loss = history.history['loss']\n",
        "val_loss = history.history['val_loss']\n",
        "min_val_loss = min(val_loss)\n",
        "min_val_loss_epoch= val_loss.index(min(val_loss)) + 1\n",
        "\n",
        "epochs = range(len(loss))\n",
        "\n",
        "plt.plot(epochs, loss, 'go', label='Training loss')\n",
        "plt.plot(epochs, val_loss, 'r', label='Validation loss')\n",
        "plt.plot(min_val_loss_epoch, min_val_loss, 'bo', label='Minimum loss')\n",
        "plt.title('Loss during training and validation')\n",
        "plt.legend()\n",
        "print(\"Best loss epoch : % d, Value : % .10f\" %(min_val_loss_epoch, min_val_loss))\n",
        "\n",
        "plt.show()"
      ],
      "execution_count": 14,
      "outputs": [
        {
          "output_type": "stream",
          "name": "stdout",
          "text": [
            "Best loss epoch :  3, Value :  0.2646123469\n"
          ]
        },
        {
          "output_type": "display_data",
          "data": {
            "text/plain": [
              "<Figure size 432x288 with 1 Axes>"
            ],
            "image/png": "[encoded data removed]"
          },
          "metadata": {
            "needs_background": "light"
          }
        }
      ]
    },
    {
      "cell_type": "markdown",
      "metadata": {
        "id": "mx-rLEdt8SeP"
      },
      "source": [
        "# **Bidirectional Recurrent Neural Network**"
      ]
    },
    {
      "cell_type": "code",
      "metadata": {
        "id": "O1-63sZa8QMI",
        "colab": {
          "base_uri": "https://localhost:8080/"
        },
        "outputId": "ff302169-3d58-41de-fe8d-9a5f17f2d4e2"
      },
      "source": [
        "from tensorflow.keras.models import Sequential\n",
        "from tensorflow.keras import layers\n",
        "from tensorflow.keras.optimizers import RMSprop\n",
        "\n",
        "model = Sequential()\n",
        "model.add(layers.Bidirectional(\n",
        "    layers.GRU(32), input_shape=(None, float_data.shape[-1])))\n",
        "model.add(layers.Dense(1))\n",
        "\n",
        "model.compile(optimizer=RMSprop(), loss='mae')\n",
        "\n",
        "es = EarlyStopping(monitor= 'val_loss', mode='min', patience = 10, verbose=1)\n",
        "mc = ModelCheckpoint('/content/model_gru6.h5', monitor='val_loss', mode='min', verbose=1, save_best_only=True)\n",
        "\n",
        "history = model.fit(train_gen,\n",
        "                    steps_per_epoch=500,\n",
        "                    epochs=40,\n",
        "                    validation_data=val_gen,\n",
        "                    validation_steps=val_steps,\n",
        "                    callbacks = [es, mc])"
      ],
      "execution_count": 15,
      "outputs": [
        {
          "output_type": "stream",
          "name": "stdout",
          "text": [
            "Epoch 1/40\n",
            "500/500 [==============================] - ETA: 0s - loss: 0.2957\n",
            "Epoch 1: val_loss improved from inf to 0.26893, saving model to /content/model_gru6.h5\n",
            "500/500 [==============================] - 72s 133ms/step - loss: 0.2957 - val_loss: 0.2689\n",
            "Epoch 2/40\n",
            "500/500 [==============================] - ETA: 0s - loss: 0.2750\n",
            "Epoch 2: val_loss did not improve from 0.26893\n",
            "500/500 [==============================] - 65s 130ms/step - loss: 0.2750 - val_loss: 0.2730\n",
            "Epoch 3/40\n",
            "500/500 [==============================] - ETA: 0s - loss: 0.2663\n",
            "Epoch 3: val_loss improved from 0.26893 to 0.26483, saving model to /content/model_gru6.h5\n",
            "500/500 [==============================] - 66s 132ms/step - loss: 0.2663 - val_loss: 0.2648\n",
            "Epoch 4/40\n",
            "500/500 [==============================] - ETA: 0s - loss: 0.2647\n",
            "Epoch 4: val_loss did not improve from 0.26483\n",
            "500/500 [==============================] - 65s 131ms/step - loss: 0.2647 - val_loss: 0.2663\n",
            "Epoch 5/40\n",
            "500/500 [==============================] - ETA: 0s - loss: 0.2569\n",
            "Epoch 5: val_loss improved from 0.26483 to 0.26437, saving model to /content/model_gru6.h5\n",
            "500/500 [==============================] - 65s 131ms/step - loss: 0.2569 - val_loss: 0.2644\n",
            "Epoch 6/40\n",
            "500/500 [==============================] - ETA: 0s - loss: 0.2520\n",
            "Epoch 6: val_loss did not improve from 0.26437\n",
            "500/500 [==============================] - 66s 131ms/step - loss: 0.2520 - val_loss: 0.2671\n",
            "Epoch 7/40\n",
            "500/500 [==============================] - ETA: 0s - loss: 0.2463\n",
            "Epoch 7: val_loss did not improve from 0.26437\n",
            "500/500 [==============================] - 66s 131ms/step - loss: 0.2463 - val_loss: 0.2814\n",
            "Epoch 8/40\n",
            "500/500 [==============================] - ETA: 0s - loss: 0.2375\n",
            "Epoch 8: val_loss did not improve from 0.26437\n",
            "500/500 [==============================] - 66s 132ms/step - loss: 0.2375 - val_loss: 0.2758\n",
            "Epoch 9/40\n",
            "500/500 [==============================] - ETA: 0s - loss: 0.2328\n",
            "Epoch 9: val_loss did not improve from 0.26437\n",
            "500/500 [==============================] - 65s 131ms/step - loss: 0.2328 - val_loss: 0.2841\n",
            "Epoch 10/40\n",
            "500/500 [==============================] - ETA: 0s - loss: 0.2252\n",
            "Epoch 10: val_loss did not improve from 0.26437\n",
            "500/500 [==============================] - 65s 131ms/step - loss: 0.2252 - val_loss: 0.2875\n",
            "Epoch 11/40\n",
            "500/500 [==============================] - ETA: 0s - loss: 0.2183\n",
            "Epoch 11: val_loss did not improve from 0.26437\n",
            "500/500 [==============================] - 65s 131ms/step - loss: 0.2183 - val_loss: 0.2909\n",
            "Epoch 12/40\n",
            "500/500 [==============================] - ETA: 0s - loss: 0.2138\n",
            "Epoch 12: val_loss did not improve from 0.26437\n",
            "500/500 [==============================] - 65s 131ms/step - loss: 0.2138 - val_loss: 0.2964\n",
            "Epoch 13/40\n",
            "500/500 [==============================] - ETA: 0s - loss: 0.2062\n",
            "Epoch 13: val_loss did not improve from 0.26437\n",
            "500/500 [==============================] - 65s 131ms/step - loss: 0.2062 - val_loss: 0.3111\n",
            "Epoch 14/40\n",
            "500/500 [==============================] - ETA: 0s - loss: 0.2009\n",
            "Epoch 14: val_loss did not improve from 0.26437\n",
            "500/500 [==============================] - 65s 131ms/step - loss: 0.2009 - val_loss: 0.3064\n",
            "Epoch 15/40\n",
            "500/500 [==============================] - ETA: 0s - loss: 0.1943\n",
            "Epoch 15: val_loss did not improve from 0.26437\n",
            "500/500 [==============================] - 65s 131ms/step - loss: 0.1943 - val_loss: 0.3131\n",
            "Epoch 15: early stopping\n"
          ]
        }
      ]
    },
    {
      "cell_type": "markdown",
      "metadata": {
        "id": "y61V-pXh9ORi"
      },
      "source": [
        "# **Loss curves**"
      ]
    },
    {
      "cell_type": "code",
      "metadata": {
        "colab": {
          "base_uri": "https://localhost:8080/",
          "height": 298
        },
        "id": "FxIN3Pou9ORu",
        "outputId": "a794ab3a-48c7-4a88-e6e2-7d383ff8364e"
      },
      "source": [
        "import matplotlib.pyplot as plt\n",
        "\n",
        "loss = history.history['loss']\n",
        "val_loss = history.history['val_loss']\n",
        "min_val_loss = min(val_loss)\n",
        "min_val_loss_epoch= val_loss.index(min(val_loss)) + 1\n",
        "\n",
        "epochs = range(len(loss))\n",
        "\n",
        "plt.plot(epochs, loss, 'go', label='Training loss')\n",
        "plt.plot(epochs, val_loss, 'r', label='Validation loss')\n",
        "plt.plot(min_val_loss_epoch, min_val_loss, 'bo', label='Minimum loss')\n",
        "plt.title('Loss during training and validation')\n",
        "plt.legend()\n",
        "print(\"Best loss epoch : % d, Value : % .10f\" %(min_val_loss_epoch, min_val_loss))\n",
        "\n",
        "plt.show()"
      ],
      "execution_count": 16,
      "outputs": [
        {
          "output_type": "stream",
          "name": "stdout",
          "text": [
            "Best loss epoch :  5, Value :  0.2643731534\n"
          ]
        },
        {
          "output_type": "display_data",
          "data": {
            "text/plain": [
              "<Figure size 432x288 with 1 Axes>"
            ],
            "image/png": "[encoded data removed]"
          },
          "metadata": {
            "needs_background": "light"
          }
        }
      ]
    }
  ]
}